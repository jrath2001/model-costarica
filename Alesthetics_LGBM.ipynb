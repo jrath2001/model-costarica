{
 "cells": [
  {
   "cell_type": "markdown",
   "metadata": {},
   "source": [
    "# Costa Rican Household Poverty Level Prediction\n",
    "<font size=3>The objective of the Costa Rican Household Poverty Level Prediction contest is to develop a machine learning model that can predict the poverty level of households using both individual and household characteristics.</font>\n",
    "\n",
    "### Problem and Data Explanation\n",
    "The data for this competition is provided in two files: train.csv and test.csv. The training set has 9557 rows and 143 columns while the testing set has 23856 rows and 142 columns. Each row represents one individual and each column is a feature, either unique to the individual, or for the household of the individual. \n",
    "<b>Id</b> - A unique identifier for each row.\n",
    "<br><b>idhogar</b> - This is a unique identifier for each household. This can be used to create household-wide features, etc. All rows in a given household will have a matching value for this identifier.\n",
    "<br><b>parentesco1</b> - indicates if this person is the head of the household.<br>\n",
    "\n",
    "The training set has one additional column, Target, which represents the poverty level on a 1-4 scale and is the label for the competition.<br>\n",
    "The Target values represent poverty levels as follows:\n",
    "<b>\n",
    "<br>1 = extreme poverty \n",
    "<br>2 = moderate poverty \n",
    "<br>3 = vulnerable households \n",
    "<br>4 = non vulnerable households</b><br>\n",
    "\n",
    "This is a supervised multi-class classification machine learning problem.  "
   ]
  },
  {
   "cell_type": "markdown",
   "metadata": {},
   "source": [
    "## Reading the data and cleaning it up"
   ]
  },
  {
   "cell_type": "code",
   "execution_count": 1,
   "metadata": {},
   "outputs": [],
   "source": [
    "# Importing the libraries\n",
    "import numpy as np\n",
    "import pandas as pd\n",
    "import seaborn as sb\n",
    "import matplotlib.pyplot as plt\n",
    "import warnings\n",
    "warnings.filterwarnings('ignore')\n",
    "from sklearn.model_selection import StratifiedKFold\n",
    "import lightgbm as lgb\n",
    "%matplotlib inline"
   ]
  },
  {
   "cell_type": "code",
   "execution_count": 2,
   "metadata": {},
   "outputs": [
    {
     "name": "stdout",
     "output_type": "stream",
     "text": [
      "train set has 9557 rows, and 143 features\n",
      "test set has 23856 rows, and 142 features\n"
     ]
    }
   ],
   "source": [
    "# Import train and test data\n",
    "train = pd.read_csv('train.csv')\n",
    "test = pd.read_csv('test.csv')\n",
    "# Check number of rows and columns in both\n",
    "print(\"train set has\", train.shape[0], \"rows, and\", train.shape[1], \"features\")\n",
    "print(\"test set has\", test.shape[0], \"rows, and\", test.shape[1], \"features\")"
   ]
  },
  {
   "cell_type": "code",
   "execution_count": 3,
   "metadata": {},
   "outputs": [
    {
     "data": {
      "text/plain": [
       "4    5996\n",
       "2    1597\n",
       "3    1209\n",
       "1     755\n",
       "Name: Target, dtype: int64"
      ]
     },
     "execution_count": 3,
     "metadata": {},
     "output_type": "execute_result"
    }
   ],
   "source": [
    "# View the data in Target\n",
    "target = train['Target']\n",
    "target.value_counts()"
   ]
  },
  {
   "cell_type": "markdown",
   "metadata": {},
   "source": [
    "### Outliers and Missing values\n",
    "We looked into the train and test set and found out that there is only 1 outlier value 'rez_esc' in test set, and acorrding to kaggle answer from competition host(https://www.kaggle.com/c/costa-rican-household-poverty-prediction/discussion/61403), we can safely change the value to 5."
   ]
  },
  {
   "cell_type": "code",
   "execution_count": 4,
   "metadata": {},
   "outputs": [],
   "source": [
    "# Modify outliers\n",
    "test.loc[test['rez_esc'] == 99.0 , 'rez_esc'] = 5"
   ]
  },
  {
   "cell_type": "code",
   "execution_count": 5,
   "metadata": {},
   "outputs": [
    {
     "name": "stdout",
     "output_type": "stream",
     "text": [
      "We got 5 rows which have missing value in train set\n"
     ]
    },
    {
     "data": {
      "text/html": [
       "<div>\n",
       "<style scoped>\n",
       "    .dataframe tbody tr th:only-of-type {\n",
       "        vertical-align: middle;\n",
       "    }\n",
       "\n",
       "    .dataframe tbody tr th {\n",
       "        vertical-align: top;\n",
       "    }\n",
       "\n",
       "    .dataframe thead th {\n",
       "        text-align: right;\n",
       "    }\n",
       "</style>\n",
       "<table border=\"1\" class=\"dataframe\">\n",
       "  <thead>\n",
       "    <tr style=\"text-align: right;\">\n",
       "      <th></th>\n",
       "      <th>Count</th>\n",
       "    </tr>\n",
       "  </thead>\n",
       "  <tbody>\n",
       "    <tr>\n",
       "      <th>rez_esc</th>\n",
       "      <td>7928</td>\n",
       "    </tr>\n",
       "    <tr>\n",
       "      <th>v18q1</th>\n",
       "      <td>7342</td>\n",
       "    </tr>\n",
       "    <tr>\n",
       "      <th>v2a1</th>\n",
       "      <td>6860</td>\n",
       "    </tr>\n",
       "    <tr>\n",
       "      <th>SQBmeaned</th>\n",
       "      <td>5</td>\n",
       "    </tr>\n",
       "    <tr>\n",
       "      <th>meaneduc</th>\n",
       "      <td>5</td>\n",
       "    </tr>\n",
       "    <tr>\n",
       "      <th>Id</th>\n",
       "      <td>0</td>\n",
       "    </tr>\n",
       "  </tbody>\n",
       "</table>\n",
       "</div>"
      ],
      "text/plain": [
       "           Count\n",
       "rez_esc     7928\n",
       "v18q1       7342\n",
       "v2a1        6860\n",
       "SQBmeaned      5\n",
       "meaneduc       5\n",
       "Id             0"
      ]
     },
     "execution_count": 5,
     "metadata": {},
     "output_type": "execute_result"
    }
   ],
   "source": [
    "# Check for missing values\n",
    "null = train.isnull().sum().values\n",
    "df_null = pd.DataFrame(null, index=train.columns, columns=['Count'])\n",
    "df_null = df_null.sort_values(by=['Count'], ascending=False)  #sort the columns with missing values in descending order\n",
    "\n",
    "count_missing = df_null[df_null['Count']>0].shape[0] #count of missing values\n",
    "\n",
    "print(\"We got\", count_missing, \"rows which have missing value in train set\")\n",
    "df_null.head(count_missing+1)"
   ]
  },
  {
   "cell_type": "markdown",
   "metadata": {},
   "source": [
    "<ul>\n",
    "    <li><b>rez_esc</b> represents \"years behind in school\", missing value could be filled as 0<br>\n",
    "    <li><b>v18q1</b> depends on v18q<br>\n",
    "    <li><b>v2a1</b> depends on tipovivi3<br>\n",
    "    <li><b>meaneduc</b> represents \"average years of education for adults (18+)\", missing value could be filled as 0<br>\n",
    "    <li>We do not really need <b>SQBmeaned</b> features for polynomial in our case, and we will use fillna as 0 after at the last step of feature engineering\n",
    "</ul>"
   ]
  },
  {
   "cell_type": "code",
   "execution_count": 6,
   "metadata": {},
   "outputs": [],
   "source": [
    "#Fill missing values\n",
    "def repalce(x):\n",
    "    if x['v18q'] == 0:\n",
    "        return x['v18q']\n",
    "    else:\n",
    "        return x['v18q1']\n",
    "\n",
    "train['v18q1'] = train.apply(lambda x : repalce(x),axis=1)\n",
    "test['v18q1'] = test.apply(lambda x : repalce(x),axis=1)\n",
    "\n",
    "train['v2a1'] = train['v2a1'].fillna(value=train['tipovivi3'])\n",
    "test['v2a1'] = test['v2a1'].fillna(value=test['tipovivi3'])"
   ]
  },
  {
   "cell_type": "markdown",
   "metadata": {},
   "source": [
    "### Feature Engineering\n",
    "Replace object value, because some labels were generated whenever continuous variables have 1 or 0. The rule is to have being yes=1 and no=0"
   ]
  },
  {
   "cell_type": "code",
   "execution_count": 7,
   "metadata": {},
   "outputs": [],
   "source": [
    "cols = ['edjefe', 'edjefa']\n",
    "train[cols] = train[cols].replace({'no': 0, 'yes':1}).astype(float)\n",
    "test[cols] = test[cols].replace({'no': 0, 'yes':1}).astype(float)"
   ]
  },
  {
   "cell_type": "code",
   "execution_count": 8,
   "metadata": {},
   "outputs": [],
   "source": [
    "# Orignial data lost one feature both for roof and electricity, so we manually add new feature\n",
    "train['roof_waste_material'] = np.nan\n",
    "test['roof_waste_material'] = np.nan\n",
    "train['electricity_other'] = np.nan\n",
    "test['electricity_other'] = np.nan\n",
    "\n",
    "def fill_roof_exception(x):\n",
    "    if (x['techozinc'] == 0) and (x['techoentrepiso'] == 0) and (x['techocane'] == 0) and (x['techootro'] == 0):\n",
    "        return 1\n",
    "    else:\n",
    "        return 0\n",
    "    \n",
    "def fill_no_electricity(x):\n",
    "    if (x['public'] == 0) and (x['planpri'] == 0) and (x['noelec'] == 0) and (x['coopele'] == 0):\n",
    "        return 1\n",
    "    else:\n",
    "        return 0\n",
    "\n",
    "train['roof_waste_material'] = train.apply(lambda x : fill_roof_exception(x),axis=1)\n",
    "test['roof_waste_material'] = test.apply(lambda x : fill_roof_exception(x),axis=1)\n",
    "train['electricity_other'] = train.apply(lambda x : fill_no_electricity(x),axis=1)\n",
    "test['electricity_other'] = test.apply(lambda x : fill_no_electricity(x),axis=1)"
   ]
  },
  {
   "cell_type": "code",
   "execution_count": 9,
   "metadata": {},
   "outputs": [],
   "source": [
    "def owner_is_adult(x):\n",
    "    if x['age'] <= 19:\n",
    "        return 0\n",
    "    else:\n",
    "        return 1\n",
    "\n",
    "train['head<18'] = train.apply(lambda x : owner_is_adult(x),axis=1)\n",
    "test['head<18'] = test.apply(lambda x : owner_is_adult(x),axis=1)"
   ]
  },
  {
   "cell_type": "code",
   "execution_count": 10,
   "metadata": {},
   "outputs": [],
   "source": [
    "# More feature engineering\n",
    "train['adult'] = train['hogar_adul'] - train['hogar_mayor']\n",
    "train['dependency_count'] = train['hogar_nin'] + train['hogar_mayor']\n",
    "train['dependency'] = train['dependency_count'] / train['adult']\n",
    "train['child_percent'] = train['hogar_nin']/train['hogar_total']\n",
    "train['elder_percent'] = train['hogar_mayor']/train['hogar_total']\n",
    "train['adult_percent'] = train['hogar_adul']/train['hogar_total']\n",
    "test['adult'] = test['hogar_adul'] - test['hogar_mayor']\n",
    "test['dependency_count'] = test['hogar_nin'] + test['hogar_mayor']\n",
    "test['dependency'] = test['dependency_count'] / test['adult']\n",
    "test['child_percent'] = test['hogar_nin']/test['hogar_total']\n",
    "test['elder_percent'] = test['hogar_mayor']/test['hogar_total']\n",
    "test['adult_percent'] = test['hogar_adul']/test['hogar_total']\n",
    "\n",
    "train['rent_per_adult'] = train['v2a1']/train['hogar_adul']\n",
    "train['rent_per_person'] = train['v2a1']/train['hhsize']\n",
    "test['rent_per_adult'] = test['v2a1']/test['hogar_adul']\n",
    "test['rent_per_person'] = test['v2a1']/test['hhsize']\n",
    "\n",
    "train['overcrowding_room_and_bedroom'] = (train['hacdor'] + train['hacapo'])/2\n",
    "test['overcrowding_room_and_bedroom'] = (test['hacdor'] + test['hacapo'])/2\n",
    "\n",
    "train['no_appliances'] = train['refrig'] + train['computer'] + train['television']\n",
    "test['no_appliances'] = test['refrig'] + test['computer'] + test['television']\n",
    "\n",
    "train['r4h1_percent_in_male'] = train['r4h1'] / train['r4h3']\n",
    "train['r4m1_percent_in_female'] = train['r4m1'] / train['r4m3']\n",
    "train['r4h1_percent_in_total'] = train['r4h1'] / train['hhsize']\n",
    "train['r4m1_percent_in_total'] = train['r4m1'] / train['hhsize']\n",
    "train['r4t1_percent_in_total'] = train['r4t1'] / train['hhsize']\n",
    "test['r4h1_percent_in_male'] = test['r4h1'] / test['r4h3']\n",
    "test['r4m1_percent_in_female'] = test['r4m1'] / test['r4m3']\n",
    "test['r4h1_percent_in_total'] = test['r4h1'] / test['hhsize']\n",
    "test['r4m1_percent_in_total'] = test['r4m1'] / test['hhsize']\n",
    "test['r4t1_percent_in_total'] = test['r4t1'] / test['hhsize']\n",
    "\n",
    "train['rent_per_room'] = train['v2a1']/train['rooms']\n",
    "train['bedroom_per_room'] = train['bedrooms']/train['rooms']\n",
    "train['elder_per_room'] = train['hogar_mayor']/train['rooms']\n",
    "train['adults_per_room'] = train['adult']/train['rooms']\n",
    "train['child_per_room'] = train['hogar_nin']/train['rooms']\n",
    "train['male_per_room'] = train['r4h3']/train['rooms']\n",
    "train['female_per_room'] = train['r4m3']/train['rooms']\n",
    "train['room_per_person_household'] = train['hhsize']/train['rooms']\n",
    "\n",
    "test['rent_per_room'] = test['v2a1']/test['rooms']\n",
    "test['bedroom_per_room'] = test['bedrooms']/test['rooms']\n",
    "test['elder_per_room'] = test['hogar_mayor']/test['rooms']\n",
    "test['adults_per_room'] = test['adult']/test['rooms']\n",
    "test['child_per_room'] = test['hogar_nin']/test['rooms']\n",
    "test['male_per_room'] = test['r4h3']/test['rooms']\n",
    "test['female_per_room'] = test['r4m3']/test['rooms']\n",
    "test['room_per_person_household'] = test['hhsize']/test['rooms']\n",
    "\n",
    "train['rent_per_bedroom'] = train['v2a1']/train['bedrooms']\n",
    "train['edler_per_bedroom'] = train['hogar_mayor']/train['bedrooms']\n",
    "train['adults_per_bedroom'] = train['adult']/train['bedrooms']\n",
    "train['child_per_bedroom'] = train['hogar_nin']/train['bedrooms']\n",
    "train['male_per_bedroom'] = train['r4h3']/train['bedrooms']\n",
    "train['female_per_bedroom'] = train['r4m3']/train['bedrooms']\n",
    "train['bedrooms_per_person_household'] = train['hhsize']/train['bedrooms']\n",
    "\n",
    "test['rent_per_bedroom'] = test['v2a1']/test['bedrooms']\n",
    "test['edler_per_bedroom'] = test['hogar_mayor']/test['bedrooms']\n",
    "test['adults_per_bedroom'] = test['adult']/test['bedrooms']\n",
    "test['child_per_bedroom'] = test['hogar_nin']/test['bedrooms']\n",
    "test['male_per_bedroom'] = test['r4h3']/test['bedrooms']\n",
    "test['female_per_bedroom'] = test['r4m3']/test['bedrooms']\n",
    "test['bedrooms_per_person_household'] = test['hhsize']/test['bedrooms']\n",
    "\n",
    "train['tablet_per_person_household'] = train['v18q1']/train['hhsize']\n",
    "train['phone_per_person_household'] = train['qmobilephone']/train['hhsize']\n",
    "test['tablet_per_person_household'] = test['v18q1']/test['hhsize']\n",
    "test['phone_per_person_household'] = test['qmobilephone']/test['hhsize']\n",
    "\n",
    "train['age_12_19'] = train['hogar_nin'] - train['r4t1']\n",
    "test['age_12_19'] = test['hogar_nin'] - test['r4t1']    \n",
    "\n",
    "train['escolari_age'] = train['escolari']/train['age']\n",
    "test['escolari_age'] = test['escolari']/test['age']\n",
    "\n",
    "train['rez_esc_escolari'] = train['rez_esc']/train['escolari']\n",
    "train['rez_esc_r4t1'] = train['rez_esc']/train['r4t1']\n",
    "train['rez_esc_r4t2'] = train['rez_esc']/train['r4t2']\n",
    "train['rez_esc_r4t3'] = train['rez_esc']/train['r4t3']\n",
    "train['rez_esc_age'] = train['rez_esc']/train['age']\n",
    "test['rez_esc_escolari'] = test['rez_esc']/test['escolari']\n",
    "test['rez_esc_r4t1'] = test['rez_esc']/test['r4t1']\n",
    "test['rez_esc_r4t2'] = test['rez_esc']/test['r4t2']\n",
    "test['rez_esc_r4t3'] = test['rez_esc']/test['r4t3']\n",
    "test['rez_esc_age'] = test['rez_esc']/test['age']"
   ]
  },
  {
   "cell_type": "code",
   "execution_count": 11,
   "metadata": {},
   "outputs": [
    {
     "name": "stdout",
     "output_type": "stream",
     "text": [
      "train set has 9557 rows, and 184 features\n",
      "test set has 23856 rows, and 183 features\n"
     ]
    }
   ],
   "source": [
    "train['dependency'] = train['dependency'].replace({np.inf: 0})\n",
    "test['dependency'] = test['dependency'].replace({np.inf: 0})\n",
    "\n",
    "print(\"train set has\", train.shape[0], \"rows, and\", train.shape[1], \"features\")\n",
    "print(\"test set has\", test.shape[0], \"rows, and\", test.shape[1], \"features\")"
   ]
  },
  {
   "cell_type": "code",
   "execution_count": 12,
   "metadata": {},
   "outputs": [
    {
     "name": "stdout",
     "output_type": "stream",
     "text": [
      "new aggregate train set has 2988 rows, and 46 features\n",
      "new aggregate test set has 7352 rows, and 46 features\n"
     ]
    }
   ],
   "source": [
    "# Aggregate train and test\n",
    "df_train = pd.DataFrame()\n",
    "df_test = pd.DataFrame()\n",
    "\n",
    "aggr_mean_list = ['rez_esc', 'dis', 'male', 'female', 'estadocivil1', 'estadocivil2', 'estadocivil3', 'estadocivil4', 'estadocivil5', 'estadocivil6', 'estadocivil7', 'parentesco2',\n",
    "             'parentesco3', 'parentesco4', 'parentesco5', 'parentesco6', 'parentesco7', 'parentesco8', 'parentesco9', 'parentesco10', 'parentesco11', 'parentesco12',\n",
    "             'instlevel1', 'instlevel2', 'instlevel3', 'instlevel4', 'instlevel5', 'instlevel6', 'instlevel7', 'instlevel8', 'instlevel9',]\n",
    "\n",
    "other_list = ['escolari', 'age', 'escolari_age']\n",
    "\n",
    "for item in aggr_mean_list:\n",
    "    group_train_mean = train[item].groupby(train['idhogar']).mean()\n",
    "    group_test_mean = test[item].groupby(test['idhogar']).mean()\n",
    "    new_col = item + '_aggr_mean'\n",
    "    df_train[new_col] = group_train_mean\n",
    "    df_test[new_col] = group_test_mean\n",
    "\n",
    "for item in other_list:\n",
    "    for function in ['mean','std','min','max','sum']:\n",
    "        group_train = train[item].groupby(train['idhogar']).agg(function)\n",
    "        group_test = test[item].groupby(test['idhogar']).agg(function)\n",
    "        new_col = item + '_' + function\n",
    "        df_train[new_col] = group_train\n",
    "        df_test[new_col] = group_test\n",
    "\n",
    "print(\"new aggregate train set has\", df_train.shape[0], \"rows, and\", df_train.shape[1], \"features\")\n",
    "print(\"new aggregate test set has\", df_test.shape[0], \"rows, and\", df_test.shape[1], \"features\")"
   ]
  },
  {
   "cell_type": "code",
   "execution_count": 13,
   "metadata": {},
   "outputs": [
    {
     "name": "stdout",
     "output_type": "stream",
     "text": [
      "new train set has 9557 rows, and 230 features\n",
      "new test set has 23856 rows, and 229 features\n"
     ]
    }
   ],
   "source": [
    "# merge train and test\n",
    "df_test = df_test.reset_index()\n",
    "df_train = df_train.reset_index()\n",
    "\n",
    "train_agg = pd.merge(train, df_train, on='idhogar')\n",
    "test = pd.merge(test, df_test, on='idhogar')\n",
    "\n",
    "#fill all na as 0\n",
    "train_agg.fillna(value=0, inplace=True)\n",
    "test.fillna(value=0, inplace=True)\n",
    "print(\"new train set has\", train_agg.shape[0], \"rows, and\", train_agg.shape[1], \"features\")\n",
    "print(\"new test set has\", test.shape[0], \"rows, and\", test.shape[1], \"features\")"
   ]
  },
  {
   "cell_type": "markdown",
   "metadata": {},
   "source": [
    "<b>Important note: while all members of a household should have the same label in the training data, there are errors where individuals in the same household have different labels. In these cases, we are told to use the label for the head of each household, which can be identified by the rows where parentesco1 == 1.0"
   ]
  },
  {
   "cell_type": "code",
   "execution_count": 14,
   "metadata": {},
   "outputs": [],
   "source": [
    "train = train_agg.query('parentesco1==1')"
   ]
  },
  {
   "cell_type": "code",
   "execution_count": 15,
   "metadata": {},
   "outputs": [
    {
     "name": "stdout",
     "output_type": "stream",
     "text": [
      "The most 20 positive feature: \n",
      " Target                  1.000000\n",
      "escolari_mean           0.423626\n",
      "escolari_max            0.373091\n",
      "escolari                0.333791\n",
      "meaneduc                0.331489\n",
      "escolari_min            0.306693\n",
      "cielorazo               0.295249\n",
      "eviv3                   0.293540\n",
      "instlevel8_aggr_mean    0.293307\n",
      "epared3                 0.280947\n",
      "escolari_age_min        0.276896\n",
      "pisomoscer              0.275452\n",
      "adult_percent           0.263882\n",
      "etecho3                 0.261142\n",
      "escolari_age_mean       0.258934\n",
      "escolari_sum            0.256726\n",
      "paredblolad             0.254469\n",
      "edjefe                  0.235687\n",
      "instlevel8              0.235102\n",
      "escolari_age            0.232205\n",
      "Name: Target, dtype: float64\n",
      "****************************************\n",
      "The most 20 negative feature: \n",
      " child_percent       -0.263882\n",
      "hogar_nin           -0.266309\n",
      "dependency_count    -0.283908\n",
      "dependency          -0.304563\n",
      "child_per_room      -0.305541\n",
      "child_per_bedroom   -0.308308\n",
      "elimbasu5                 NaN\n",
      "estadocivil1              NaN\n",
      "parentesco1               NaN\n",
      "parentesco2               NaN\n",
      "parentesco3               NaN\n",
      "parentesco4               NaN\n",
      "parentesco5               NaN\n",
      "parentesco6               NaN\n",
      "parentesco7               NaN\n",
      "parentesco8               NaN\n",
      "parentesco9               NaN\n",
      "parentesco10              NaN\n",
      "parentesco11              NaN\n",
      "parentesco12              NaN\n",
      "Name: Target, dtype: float64\n"
     ]
    }
   ],
   "source": [
    "submission = test[['Id']]\n",
    "\n",
    "#Remove useless feature to reduce dimension\n",
    "train.drop(columns=['Id', 'idhogar', 'tamhog', 'agesq', 'hogar_adul', 'SQBescolari', 'SQBage', 'SQBhogar_total', 'SQBedjefe', 'SQBhogar_nin', 'SQBovercrowding', 'SQBdependency', 'SQBmeaned'], inplace=True)\n",
    "test.drop(columns=['Id', 'idhogar', 'tamhog', 'agesq', 'hogar_adul', 'SQBescolari', 'SQBage', 'SQBhogar_total', 'SQBedjefe', 'SQBhogar_nin', 'SQBovercrowding', 'SQBdependency', 'SQBmeaned'], inplace=True)\n",
    "\n",
    "correlation = train.corr()\n",
    "correlation = correlation['Target'].sort_values(ascending=False)\n",
    "print(\"The most 20 positive feature: \\n\",correlation.head(20))\n",
    "print('*'*40)\n",
    "\n",
    "print(\"The most 20 negative feature: \\n\",correlation.tail(20))"
   ]
  },
  {
   "cell_type": "markdown",
   "metadata": {},
   "source": [
    "## Let's look on the most correlated with Target features"
   ]
  },
  {
   "cell_type": "code",
   "execution_count": 16,
   "metadata": {},
   "outputs": [
    {
     "data": {
      "image/png": "[encoded data removed]",
      "text/plain": [
       "<Figure size 720x504 with 2 Axes>"
      ]
     },
     "metadata": {
      "needs_background": "light"
     },
     "output_type": "display_data"
    }
   ],
   "source": [
    "max_corr = train.corr()['Target'].loc[lambda x: abs(x)>0.2].index\n",
    "#min_corr = XY.corr()['Target'].loc[lambda x: abs(x)<0.05].index\n",
    "_ = plt.figure(figsize=(10,7))\n",
    "_ = sb.heatmap(train[max_corr].corr(), vmin=-0.5, vmax=0.5, cmap='coolwarm')"
   ]
  },
  {
   "cell_type": "markdown",
   "metadata": {},
   "source": [
    "## Model - LightGBM"
   ]
  },
  {
   "cell_type": "code",
   "execution_count": 18,
   "metadata": {},
   "outputs": [],
   "source": [
    "from sklearn.model_selection import cross_val_score\n",
    "from sklearn import preprocessing\n",
    "from sklearn.model_selection import RandomizedSearchCV\n",
    "from sklearn.metrics import f1_score"
   ]
  },
  {
   "cell_type": "code",
   "execution_count": 19,
   "metadata": {},
   "outputs": [],
   "source": [
    "y = train['Target']\n",
    "train.drop(columns=['Target'], inplace=True)\n",
    "\n",
    "#parameter value is copied from \n",
    "clf = lgb.LGBMClassifier(max_depth=9, learning_rate=0.01, objective='multiclass',\n",
    "                             random_state=0, silent=True, metric='None', \n",
    "                             n_jobs=4, n_estimators=2500, class_weight='balanced',\n",
    "                             colsample_bytree =  0.93, min_child_samples = 20, num_leaves = 21, subsample = 0.96)"
   ]
  },
  {
   "cell_type": "markdown",
   "metadata": {},
   "source": [
    "## StratifiedKFold"
   ]
  },
  {
   "cell_type": "code",
   "execution_count": 20,
   "metadata": {
    "scrolled": false
   },
   "outputs": [
    {
     "name": "stdout",
     "output_type": "stream",
     "text": [
      "Running 1\n",
      "Running 2\n",
      "Running 3\n",
      "Running 4\n",
      "Running 5\n"
     ]
    }
   ],
   "source": [
    "kfold = 5\n",
    "kf = StratifiedKFold(n_splits=kfold, shuffle=True, random_state=0)\n",
    "count=1\n",
    "predicts_result = []\n",
    "test_result = []\n",
    "for train_index, test_index in kf.split(train, y):\n",
    "    print(\"Running\", count) #It will run for Kfold(5) number of times\n",
    "    count = count+1\n",
    "    X_train, X_val = train.iloc[train_index], train.iloc[test_index]\n",
    "    y_train, y_val = y.iloc[train_index], y.iloc[test_index]\n",
    "    clf.fit(X_train, y_train, eval_set=[(X_val, y_val)], verbose=100) #fit the data\n",
    "    test_result.append(f1_score(y_pred=clf.predict(X_val), y_true=y_val, average=\"macro\"))\n",
    "    predicts_result.append(clf.predict(test)) #predict for test data"
   ]
  },
  {
   "cell_type": "code",
   "execution_count": 21,
   "metadata": {},
   "outputs": [
    {
     "name": "stdout",
     "output_type": "stream",
     "text": [
      "0.3446713641312855\n",
      "0.39524074920817653\n",
      "0.4118800326456611\n",
      "0.3799985863725678\n",
      "0.38548214146693016\n",
      "Mean test f1:  0.3834545747649242\n"
     ]
    }
   ],
   "source": [
    "for result in test_result:\n",
    "    print(result)\n",
    "print(\"Mean test f1: \", np.mean(test_result))"
   ]
  },
  {
   "cell_type": "code",
   "execution_count": 22,
   "metadata": {},
   "outputs": [
    {
     "name": "stdout",
     "output_type": "stream",
     "text": [
      "LGBM train f1:  0.8862684036899038\n"
     ]
    }
   ],
   "source": [
    "train_predict = clf.predict(train)\n",
    "test_f1 = f1_score(y_pred=train_predict, y_true=y, average=\"macro\")\n",
    "print(\"LGBM train f1: \", test_f1)"
   ]
  },
  {
   "cell_type": "code",
   "execution_count": 23,
   "metadata": {},
   "outputs": [
    {
     "data": {
      "text/plain": [
       "Text(0.5, 1.0, 'LightGBM feature importance')"
      ]
     },
     "execution_count": 23,
     "metadata": {},
     "output_type": "execute_result"
    },
    {
     "data": {
      "image/png": "[encoded data removed]",
      "text/plain": [
       "<Figure size 1440x1080 with 1 Axes>"
      ]
     },
     "metadata": {
      "needs_background": "light"
     },
     "output_type": "display_data"
    }
   ],
   "source": [
    "#LightGBM feature importance\n",
    "indices = np.argsort(clf.feature_importances_)[::-1]\n",
    "indices = indices[:75]\n",
    "\n",
    "# Visualise these with a barplot\n",
    "plt.subplots(figsize=(20, 15))\n",
    "g = sb.barplot(y=train.columns[indices], x = clf.feature_importances_[indices], orient='h')\n",
    "g.set_xlabel(\"Relative importance\",fontsize=12)\n",
    "g.set_ylabel(\"Features\",fontsize=12)\n",
    "g.tick_params(labelsize=9)\n",
    "g.set_title(\"LightGBM feature importance\")"
   ]
  },
  {
   "cell_type": "code",
   "execution_count": 24,
   "metadata": {},
   "outputs": [],
   "source": [
    "submission['Target'] = [np.argmax(np.bincount(x)) for x in np.vstack(predicts_result).T]\n",
    "submission.to_csv('submission.csv', index = False)"
   ]
  },
  {
   "cell_type": "code",
   "execution_count": 25,
   "metadata": {},
   "outputs": [
    {
     "data": {
      "text/html": [
       "<div>\n",
       "<style scoped>\n",
       "    .dataframe tbody tr th:only-of-type {\n",
       "        vertical-align: middle;\n",
       "    }\n",
       "\n",
       "    .dataframe tbody tr th {\n",
       "        vertical-align: top;\n",
       "    }\n",
       "\n",
       "    .dataframe thead th {\n",
       "        text-align: right;\n",
       "    }\n",
       "</style>\n",
       "<table border=\"1\" class=\"dataframe\">\n",
       "  <thead>\n",
       "    <tr style=\"text-align: right;\">\n",
       "      <th></th>\n",
       "      <th>Id</th>\n",
       "      <th>Target</th>\n",
       "    </tr>\n",
       "  </thead>\n",
       "  <tbody>\n",
       "    <tr>\n",
       "      <th>0</th>\n",
       "      <td>ID_2f6873615</td>\n",
       "      <td>4</td>\n",
       "    </tr>\n",
       "    <tr>\n",
       "      <th>1</th>\n",
       "      <td>ID_1c78846d2</td>\n",
       "      <td>4</td>\n",
       "    </tr>\n",
       "    <tr>\n",
       "      <th>2</th>\n",
       "      <td>ID_e5442cf6a</td>\n",
       "      <td>4</td>\n",
       "    </tr>\n",
       "    <tr>\n",
       "      <th>3</th>\n",
       "      <td>ID_a8db26a79</td>\n",
       "      <td>4</td>\n",
       "    </tr>\n",
       "    <tr>\n",
       "      <th>4</th>\n",
       "      <td>ID_a62966799</td>\n",
       "      <td>4</td>\n",
       "    </tr>\n",
       "    <tr>\n",
       "      <th>...</th>\n",
       "      <td>...</td>\n",
       "      <td>...</td>\n",
       "    </tr>\n",
       "    <tr>\n",
       "      <th>23851</th>\n",
       "      <td>ID_a065a7cad</td>\n",
       "      <td>2</td>\n",
       "    </tr>\n",
       "    <tr>\n",
       "      <th>23852</th>\n",
       "      <td>ID_1a7c6953b</td>\n",
       "      <td>2</td>\n",
       "    </tr>\n",
       "    <tr>\n",
       "      <th>23853</th>\n",
       "      <td>ID_07dbb4be2</td>\n",
       "      <td>2</td>\n",
       "    </tr>\n",
       "    <tr>\n",
       "      <th>23854</th>\n",
       "      <td>ID_34d2ed046</td>\n",
       "      <td>4</td>\n",
       "    </tr>\n",
       "    <tr>\n",
       "      <th>23855</th>\n",
       "      <td>ID_34754556f</td>\n",
       "      <td>2</td>\n",
       "    </tr>\n",
       "  </tbody>\n",
       "</table>\n",
       "<p>23856 rows × 2 columns</p>\n",
       "</div>"
      ],
      "text/plain": [
       "                 Id  Target\n",
       "0      ID_2f6873615       4\n",
       "1      ID_1c78846d2       4\n",
       "2      ID_e5442cf6a       4\n",
       "3      ID_a8db26a79       4\n",
       "4      ID_a62966799       4\n",
       "...             ...     ...\n",
       "23851  ID_a065a7cad       2\n",
       "23852  ID_1a7c6953b       2\n",
       "23853  ID_07dbb4be2       2\n",
       "23854  ID_34d2ed046       4\n",
       "23855  ID_34754556f       2\n",
       "\n",
       "[23856 rows x 2 columns]"
      ]
     },
     "execution_count": 25,
     "metadata": {},
     "output_type": "execute_result"
    }
   ],
   "source": [
    "submission"
   ]
  },
  {
   "cell_type": "markdown",
   "metadata": {},
   "source": [
    "## END"
   ]
  }
 ],
 "metadata": {
  "kernelspec": {
   "display_name": "Python 3",
   "language": "python",
   "name": "python3"
  },
  "language_info": {
   "codemirror_mode": {
    "name": "ipython",
    "version": 3
   },
   "file_extension": ".py",
   "mimetype": "text/x-python",
   "name": "python",
   "nbconvert_exporter": "python",
   "pygments_lexer": "ipython3",
   "version": "3.8.3"
  }
 },
 "nbformat": 4,
 "nbformat_minor": 4
}
